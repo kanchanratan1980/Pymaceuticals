{
 "cells": [
  {
   "cell_type": "markdown",
   "metadata": {},
   "source": [
    "# Pymaceuticals Inc.\n",
    "---\n",
    "\n",
    "### Analysis\n",
    "\n",
    "- Add your analysis here.\n",
    " "
   ]
  },
  {
   "cell_type": "code",
   "execution_count": null,
   "metadata": {},
   "outputs": [],
   "source": [
    "# Dependencies and Setup\n",
    "import matplotlib.pyplot as plt\n",
    "import pandas as pd\n",
    "import scipy.stats as st\n",
    "import numpy as np\n",
    "\n",
    "# Study data files\n",
    "mouse_metadata_path = \"data/Mouse_metadata.csv\"\n",
    "study_results_path = \"data/Study_results.csv\"\n",
    "\n",
    "# Read the mouse data and the study results\n",
    "mouse_metadata = pd.read_csv(mouse_metadata_path)\n",
    "study_results = pd.read_csv(study_results_path)\n",
    "\n",
    "# Combine the data into a single DataFrame\n",
    "# Merge the data\n",
    "merged_data = pd.merge(study_results, mouse_metadata, on=\"Mouse ID\")\n",
    "\n",
    "\n",
    "# Display the data table for preview\n",
    "merged_data.head()\n"
   ]
  },
  {
   "cell_type": "code",
   "execution_count": null,
   "metadata": {},
   "outputs": [],
   "source": [
    "# Checking the number of mice.\n",
    "\n",
    "total_mice_count = merged_data.shape[0]\n",
    "print(f\"Total rows (data points): {total_mice_count}\")"
   ]
  },
  {
   "cell_type": "code",
   "execution_count": null,
   "metadata": {},
   "outputs": [],
   "source": [
    "# Our data should be uniquely identified by Mouse ID and Timepoint\n",
    "unique_mice_count = merged_data[\"Mouse ID\"].nunique()\n",
    "print(f\"Number of unique mice: {unique_mice_count}\")\n",
    "# Get the duplicate mice by ID number that shows up for Mouse ID and Timepoint.\n",
    "duplicate_rows = merged_data[merged_data.duplicated(subset=[\"Mouse ID\", \"Timepoint\"])]\n",
    "duplicate_mouse_ids = duplicate_rows[\"Mouse ID\"].unique()\n",
    "\n",
    "# Check for duplicate Mouse ID and Timepoint combinations\n",
    "duplicate_rows = merged_data[merged_data.duplicated(subset=[\"Mouse ID\", \"Timepoint\"], keep=False)]\n",
    "duplicate_rows\n",
    "\n"
   ]
  },
  {
   "cell_type": "code",
   "execution_count": 4,
   "metadata": {},
   "outputs": [],
   "source": [
    "\n"
   ]
  },
  {
   "cell_type": "code",
   "execution_count": 4,
   "metadata": {},
   "outputs": [],
   "source": [
    "# Create a clean DataFrame by dropping the duplicate mouse by its ID.\n",
    "\n",
    "if duplicate_mouse_ids.size > 0:\n",
    "    cleaned_data = merged_data[~merged_data[\"Mouse ID\"].isin(duplicate_mouse_ids)]\n",
    "else:\n",
    "    cleaned_data = merged_data.copy()  # No duplicates found, keep original data\n",
    "\n",
    "\n"
   ]
  },
  {
   "cell_type": "code",
   "execution_count": null,
   "metadata": {},
   "outputs": [],
   "source": [
    "# Checking the number of mice in the clean DataFrame.\n",
    "updated_unique_mice_count = cleaned_data[\"Mouse ID\"].nunique()\n",
    "print(f\"\\nNumber of unique mice after cleaning: {updated_unique_mice_count}\")"
   ]
  },
  {
   "cell_type": "markdown",
   "metadata": {},
   "source": [
    "## Summary Statistics"
   ]
  },
  {
   "cell_type": "code",
   "execution_count": null,
   "metadata": {},
   "outputs": [],
   "source": [
    "# Generate a summary statistics table of mean, median, variance, standard deviation, and SEM of the tumor volume for each regimen\n",
    "\n",
    "# Use groupby and summary statistical methods to calculate the following properties of each drug regimen:\n",
    "grouped_data = cleaned_data.groupby(\"Drug Regimen\")\n",
    "\n",
    "# mean, median, variance, standard deviation, and SEM of the tumor volume.\n",
    "summary_stats = pd.DataFrame({\n",
    "    \"Mean Tumor Volume\": grouped_data[\"Tumor Volume (mm3)\"].mean(),\n",
    "    \"Median Tumor Volume\": grouped_data[\"Tumor Volume (mm3)\"].median(),\n",
    "    \"Tumor Volume Variance\": grouped_data[\"Tumor Volume (mm3)\"].var(),\n",
    "    \"Tumor Volume Std Dev\": grouped_data[\"Tumor Volume (mm3)\"].std(),\n",
    "    \"Tumor Volume SEM\": grouped_data[\"Tumor Volume (mm3)\"].sem()\n",
    "})\n",
    "\n",
    "# Assemble the resulting series into a single summary DataFrame.\n",
    "print(\"\\nSummary Statistics Table:\")\n",
    "(summary_stats)\n"
   ]
  },
  {
   "cell_type": "code",
   "execution_count": 7,
   "metadata": {},
   "outputs": [],
   "source": [
    "# A more advanced method to generate a summary statistics table of mean, median, variance, standard deviation,\n",
    "# and SEM of the tumor volume for each regimen (only one method is required in the solution)\n",
    "\n",
    "# Using the aggregation method, produce the same summary statistics in a single line\n"
   ]
  },
  {
   "cell_type": "markdown",
   "metadata": {},
   "source": [
    "## Bar and Pie Charts"
   ]
  },
  {
   "cell_type": "code",
   "execution_count": null,
   "metadata": {},
   "outputs": [],
   "source": [
    "# Generate a bar plot showing the total number of rows (Mouse ID/Timepoints) for each drug regimen using Pandas.\n",
    "# Step 1: Count the number of rows (Mouse ID/Timepoints) for each drug regimen\n",
    "rows_per_regimen = cleaned_data[\"Drug Regimen\"].value_counts()\n",
    "# Step 2: Generate the bar plot using Pandas\n",
    "rows_per_regimen.plot(kind=\"bar\", color=\"skyblue\", figsize=(5, 3))\n",
    "plt.title(\"Total Number of Rows (Mouse ID/Timepoints) per Drug Regimen\", fontsize=10)\n",
    "plt.xlabel(\"Drug Regimen\", fontsize=10)\n",
    "plt.ylabel(\"Total Rows (Mouse ID/Timepoints)\", fontsize=10)\n",
    "plt.xticks(rotation=45, fontsize=8)\n",
    "plt.grid(axis=\"y\", linestyle=\"--\", alpha=0.7)\n",
    "plt.tight_layout()\n",
    "plt.show()\n",
    "\n",
    "\n"
   ]
  },
  {
   "cell_type": "code",
   "execution_count": null,
   "metadata": {},
   "outputs": [],
   "source": [
    "# Generate a bar plot showing the total number of rows (Mouse ID/Timepoints) for each drug regimen using pyplot.\n",
    "\n",
    "plt.figure(figsize=(5, 3))  # Set figure size\n",
    "plt.bar(rows_per_regimen.index, rows_per_regimen.values, color=\"skyblue\")\n",
    "plt.title(\"Total Number of Rows (Mouse ID/Timepoints) per Drug Regimen\", fontsize=10)\n",
    "plt.xlabel(\"Drug Regimen\", fontsize=12)\n",
    "plt.ylabel(\"Total Rows (Mouse ID/Timepoints)\", fontsize=10)\n",
    "plt.xticks(rotation=45, fontsize=12)  # Rotate x-axis labels\n",
    "plt.grid(axis=\"y\", linestyle=\"--\", alpha=0.7)  # Add gridlines for better readability\n",
    "plt.tight_layout()  # Adjust layout for better appearance\n",
    "\n"
   ]
  },
  {
   "cell_type": "code",
   "execution_count": null,
   "metadata": {},
   "outputs": [],
   "source": [
    "# Generate a pie chart, using Pandas, showing the distribution of unique female versus male mice used in the study\n",
    "\n",
    "# Get the unique mice with their gender\n",
    "\n",
    "unique_mice_gender = cleaned_data.drop_duplicates(subset=\"Mouse ID\")[[\"Mouse ID\", \"Sex\"]]\n",
    "#  Count the number of male and female mice\n",
    "gender_counts = unique_mice_gender[\"Sex\"].value_counts()\n",
    "\n",
    "# Make the pie chart\n",
    "gender_counts.plot(kind=\"pie\", autopct=\"%1.1f%%\", startangle=90, colors=[\"lightblue\", \"lightpink\"], figsize=(3, 3))\n",
    "# Customize the pie chart\n",
    "plt.title(\"Distribution of Unique Female vs. Male Mice in the Study\", fontsize=16)\n",
    "plt.ylabel(\"\")  # Remove the y-axis label for better visualization\n",
    "plt.tight_layout()\n",
    "plt.show()\n"
   ]
  },
  {
   "cell_type": "code",
   "execution_count": null,
   "metadata": {},
   "outputs": [],
   "source": [
    "# Generate a pie chart, using pyplot, showing the distribution of unique female versus male mice used in the study\n",
    "\n",
    "# Get the unique mice with their gender\n",
    "\n",
    "# Make the pie chart\n",
    "# Create a figure\n",
    "plt.figure(figsize=(3, 3))\n",
    "# Plot the pie chart\n",
    "plt.pie(gender_counts, \n",
    "        labels=gender_counts.index,  # Labels for male and female\n",
    "        autopct=\"%1.1f%%\",           # Show percentages on slices\n",
    "        startangle=90,               # Rotate chart to start from the top\n",
    "        colors=[\"lightblue\", \"lightpink\"])  # Assign colors to slices\n",
    "#  Customize the pie chart\n",
    "plt.title(\"Distribution of Unique Female vs. Male Mice in the Study\", fontsize=16)\n",
    "#  Show the pie chart\n",
    "plt.tight_layout()  # Adjust layout for better appearance\n",
    "plt.show()\n",
    "\n",
    "\n"
   ]
  },
  {
   "cell_type": "markdown",
   "metadata": {},
   "source": [
    "## Quartiles, Outliers and Boxplots"
   ]
  },
  {
   "cell_type": "code",
   "execution_count": null,
   "metadata": {},
   "outputs": [],
   "source": [
    "# Calculate the final tumor volume of each mouse across four of the treatment regimens:\n",
    "# Capomulin, Ramicane, Infubinol, and Ceftamin\n",
    "\n",
    "# Start by getting the last (greatest) timepoint for each mouse\n",
    "final_timepoints = cleaned_data.groupby(\"Mouse ID\")[\"Timepoint\"].max().reset_index()\n",
    "\n",
    "# Merge this group df with the original DataFrame to get the tumor volume at the last timepoint\n",
    "final_tumor_data = final_timepoints.merge(cleaned_data, on=[\"Mouse ID\", \"Timepoint\"], how=\"left\")\n",
    "\n",
    "#  Filter the data to include only the four selected treatment regimens\n",
    "selected_regimens = [\"Capomulin\", \"Ramicane\", \"Infubinol\", \"Ceftamin\"]\n",
    "final_tumor_data = final_tumor_data[final_tumor_data[\"Drug Regimen\"].isin(selected_regimens)]\n",
    "#  Display the final dataset for verification\n",
    "final_tumor_data.head()\n",
    "\n"
   ]
  },
  {
   "cell_type": "code",
   "execution_count": 13,
   "metadata": {},
   "outputs": [],
   "source": [
    "# Put treatments into a list for for loop (and later for plot labels)\n",
    "\n",
    "#selected_regimens = [\"Capomulin\", \"Ramicane\", \"Infubinol\", \"Ceftamin\"]\n",
    "# Create empty list to fill with tumor vol data (for plotting)\n",
    "tumor_volumes_list = []\n",
    "for drug in selected_regimens:\n",
    " \n",
    " # Locate the rows which contain mice on each drug and get the tumor volumes\n",
    " tumor_volumes = final_tumor_data.loc[final_tumor_data[\"Drug Regimen\"] == drug, \"Tumor Volume (mm3)\"]\n",
    "\n",
    " # Add the subset to the list (instead of a dictionary)\n",
    " tumor_volumes_list.append(tumor_volumes)\n",
    "\n",
    "    # Calculate the IQR and quantitatively determine if there are any potential outliers.\n",
    " quartiles = tumor_volumes.quantile([0.25, 0.5, 0.75])\n",
    " lowerq = quartiles[0.25]\n",
    " upperq = quartiles[0.75]\n",
    " iqr = upperq - lowerq\n",
    "     # Determine outliers using upper and lower bounds)\n",
    "lower_bound = lowerq - (1.5 * iqr)\n",
    "upper_bound = upperq + (1.5 * iqr)\n",
    "#  Find any potential outliers\n",
    "outliers = tumor_volumes[(tumor_volumes < lower_bound) | (tumor_volumes > upper_bound)]\n",
    "\n",
    "\n",
    "\n",
    "\n"
   ]
  },
  {
   "cell_type": "code",
   "execution_count": null,
   "metadata": {},
   "outputs": [],
   "source": [
    "# Generate a box plot that shows the distribution of the tumor volume for each treatment group.\n",
    "# Create a figure and axis\n",
    "fig, ax = plt.subplots(figsize=(4, 3))\n",
    "\n",
    "# Create the box plot\n",
    "ax.boxplot(tumor_volumes_list, labels=selected_regimens, patch_artist=True,\n",
    "           flierprops={\"marker\": \"o\", \"markerfacecolor\": \"red\", \"markersize\": 10, \"linestyle\": \"none\"})\n",
    "\n",
    "# Add labels and title\n",
    "ax.set_title(\"Tumor Volume Distribution by Drug Regimen\")\n",
    "ax.set_ylabel(\"Final Tumor Volume (mm³)\")\n",
    "ax.set_xlabel(\"Drug Regimen\")\n",
    "\n",
    "# Show the plot\n",
    "plt.show()"
   ]
  },
  {
   "cell_type": "markdown",
   "metadata": {},
   "source": [
    "## Line and Scatter Plots"
   ]
  },
  {
   "cell_type": "code",
   "execution_count": null,
   "metadata": {},
   "outputs": [],
   "source": [
    "# Generate a line plot of tumor volume vs. time point for a single mouse treated with Capomulin\n",
    "# Select a single mouse treated with Capomulin\n",
    "mouse_id = \"b128\"  \n",
    "\n",
    "# Filter data for the selected mouse\n",
    "mouse_data = cleaned_data[(cleaned_data[\"Mouse ID\"] == mouse_id) & (cleaned_data[\"Drug Regimen\"] == \"Capomulin\")]\n",
    "\n",
    "# Create the line plot\n",
    "plt.figure(figsize=(4, 3))\n",
    "plt.plot(mouse_data[\"Timepoint\"], mouse_data[\"Tumor Volume (mm3)\"], marker=\"o\", linestyle=\"-\", color=\"blue\", linewidth=2)\n",
    "\n",
    "# Add labels and title\n",
    "plt.xlabel(\"Timepoint (Days)\")\n",
    "plt.ylabel(\"Tumor Volume (mm³)\")\n",
    "plt.title(f\"Tumor Volume Over Time for Mouse {mouse_id} (Capomulin)\")\n",
    "plt.grid(True)\n",
    "\n",
    "# Show the plot\n",
    "plt.show()\n"
   ]
  },
  {
   "cell_type": "code",
   "execution_count": null,
   "metadata": {},
   "outputs": [],
   "source": [
    "# Generate a scatter plot of mouse weight vs. the average observed tumor volume for the entire Capomulin regimen\n",
    "# Filter data for Capomulin regimen\n",
    "capomulin_data = cleaned_data[cleaned_data[\"Drug Regimen\"] == \"Capomulin\"]\n",
    "\n",
    "# Group by Mouse ID and calculate the average tumor volume for each mouse\n",
    "avg_tumor_vol = capomulin_data.groupby(\"Mouse ID\")[\"Tumor Volume (mm3)\"].mean()\n",
    "\n",
    "# Get the corresponding mouse weights\n",
    "mouse_weights = capomulin_data.groupby(\"Mouse ID\")[\"Weight (g)\"].mean()\n",
    "\n",
    "# Create the scatter plot\n",
    "plt.figure(figsize=(4, 3))\n",
    "plt.scatter(mouse_weights, avg_tumor_vol, color=\"blue\", alpha=0.7, edgecolors=\"black\")\n",
    "\n",
    "# Add labels and title\n",
    "plt.xlabel(\"Mouse Weight (g)\")\n",
    "plt.ylabel(\"Average Tumor Volume (mm³)\")\n",
    "plt.title(\"Mouse Weight vs. Average Tumor Volume (Capomulin Regimen)\")\n",
    "plt.grid(True)\n",
    "\n",
    "# Show the plot\n",
    "plt.show()\n",
    "\n"
   ]
  },
  {
   "cell_type": "markdown",
   "metadata": {},
   "source": [
    "## Correlation and Regression"
   ]
  },
  {
   "cell_type": "code",
   "execution_count": null,
   "metadata": {},
   "outputs": [],
   "source": [
    "# Calculate the correlation coefficient and a linear regression model\n",
    "# for mouse weight and average observed tumor volume for the entire Capomulin regimen\n",
    "# Calculate the correlation coefficient\n",
    "correlation = st.pearsonr(mouse_weights, avg_tumor_vol)[0]\n",
    "print(f\"Correlation coefficient between mouse weight and tumor volume: {correlation:.2f}\")\n",
    "\n",
    "# Perform linear regression\n",
    "slope, intercept, r_value, p_value, std_err = st.linregress(mouse_weights, avg_tumor_vol)\n",
    "\n",
    "# Generate regression line values\n",
    "regression_values = slope * mouse_weights + intercept\n",
    "\n",
    "# Plot the scatter plot again\n",
    "plt.figure(figsize=(4, 3))\n",
    "plt.scatter(mouse_weights, avg_tumor_vol, color=\"blue\", alpha=0.7, edgecolors=\"black\", label=\"Data\")\n",
    "\n",
    "# Plot the regression line\n",
    "plt.plot(mouse_weights, regression_values, color=\"red\", linewidth=2, label=\"Linear Regression\")\n",
    "\n",
    "# Add labels, title, and legend\n",
    "plt.xlabel(\"Mouse Weight (g)\")\n",
    "plt.ylabel(\"Average Tumor Volume (mm³)\")\n",
    "plt.title(\"Mouse Weight vs. Average Tumor Volume (Capomulin Regimen)\")\n",
    "plt.legend()\n",
    "plt.grid(True)\n",
    "\n",
    "# Show the plot\n",
    "plt.show()\n",
    "\n",
    "\n",
    "\n"
   ]
  },
  {
   "cell_type": "code",
   "execution_count": null,
   "metadata": {},
   "outputs": [],
   "source": []
  }
 ],
 "metadata": {
  "anaconda-cloud": {},
  "kernelspec": {
   "display_name": "dev",
   "language": "python",
   "name": "python3"
  },
  "language_info": {
   "codemirror_mode": {
    "name": "ipython",
    "version": 3
   },
   "file_extension": ".py",
   "mimetype": "text/x-python",
   "name": "python",
   "nbconvert_exporter": "python",
   "pygments_lexer": "ipython3",
   "version": "3.10.16"
  }
 },
 "nbformat": 4,
 "nbformat_minor": 4
}
